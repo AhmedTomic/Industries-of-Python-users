{
 "cells": [
  {
   "cell_type": "markdown",
   "metadata": {},
   "source": [
    "# Industries of Python users \n",
    "\n",
    "## Data Source(kaggle)\n",
    "\n",
    "### Tomic Ahmed"
   ]
  },
  {
   "cell_type": "code",
   "execution_count": 1,
   "metadata": {},
   "outputs": [
    {
     "data": {
      "text/html": [
       "<script>requirejs.config({paths: { 'plotly': ['https://cdn.plot.ly/plotly-latest.min']},});if(!window.Plotly) {{require(['plotly'],function(plotly) {window.Plotly=plotly;});}}</script>"
      ],
      "text/vnd.plotly.v1+html": [
       "<script>requirejs.config({paths: { 'plotly': ['https://cdn.plot.ly/plotly-latest.min']},});if(!window.Plotly) {{require(['plotly'],function(plotly) {window.Plotly=plotly;});}}</script>"
      ]
     },
     "metadata": {},
     "output_type": "display_data"
    },
    {
     "data": {
      "application/vnd.plotly.v1+json": {
       "data": [
        {
         "marker": {
          "color": [
           2253,
           1643,
           1145,
           984,
           954,
           728,
           561,
           413,
           407,
           388,
           322,
           306
          ],
          "colorscale": "Portland",
          "showscale": true,
          "size": 50,
          "sizemode": "diameter",
          "sizeref": 1
         },
         "mode": "markers",
         "type": "scatter",
         "uid": "7653a954-b453-11e8-b15a-00210020bec7",
         "x": [
          "Technology",
          "Academic",
          "Financial",
          "Other",
          "Mix of fields",
          "Internet-based",
          "Government",
          "Manufacturing",
          "Telecommunications",
          "CRM/Marketing",
          "Retail",
          "Insurance"
         ],
         "y": [
          2253,
          1643,
          1145,
          984,
          954,
          728,
          561,
          413,
          407,
          388,
          322,
          306
         ]
        }
       ],
       "layout": {
        "title": "Industries of Python users",
        "yaxis": {
         "title": "# of Respondents"
        }
       }
      },
      "text/html": [
       "<div id=\"98cc05a9-7a78-49ab-96d4-3acad5aac952\" style=\"height: 525px; width: 100%;\" class=\"plotly-graph-div\"></div><script type=\"text/javascript\">require([\"plotly\"], function(Plotly) { window.PLOTLYENV=window.PLOTLYENV || {};window.PLOTLYENV.BASE_URL=\"https://plot.ly\";Plotly.newPlot(\"98cc05a9-7a78-49ab-96d4-3acad5aac952\", [{\"marker\": {\"color\": [2253, 1643, 1145, 984, 954, 728, 561, 413, 407, 388, 322, 306], \"colorscale\": \"Portland\", \"showscale\": true, \"size\": 50, \"sizemode\": \"diameter\", \"sizeref\": 1}, \"mode\": \"markers\", \"x\": [\"Technology\", \"Academic\", \"Financial\", \"Other\", \"Mix of fields\", \"Internet-based\", \"Government\", \"Manufacturing\", \"Telecommunications\", \"CRM/Marketing\", \"Retail\", \"Insurance\"], \"y\": [2253, 1643, 1145, 984, 954, 728, 561, 413, 407, 388, 322, 306], \"type\": \"scatter\", \"uid\": \"7653a954-b453-11e8-b15a-00210020bec7\"}], {\"title\": \"Industries of Python users\", \"yaxis\": {\"title\": \"# of Respondents\"}}, {\"showLink\": true, \"linkText\": \"Export to plot.ly\"})});</script>"
      ],
      "text/vnd.plotly.v1+html": [
       "<div id=\"98cc05a9-7a78-49ab-96d4-3acad5aac952\" style=\"height: 525px; width: 100%;\" class=\"plotly-graph-div\"></div><script type=\"text/javascript\">require([\"plotly\"], function(Plotly) { window.PLOTLYENV=window.PLOTLYENV || {};window.PLOTLYENV.BASE_URL=\"https://plot.ly\";Plotly.newPlot(\"98cc05a9-7a78-49ab-96d4-3acad5aac952\", [{\"marker\": {\"color\": [2253, 1643, 1145, 984, 954, 728, 561, 413, 407, 388, 322, 306], \"colorscale\": \"Portland\", \"showscale\": true, \"size\": 50, \"sizemode\": \"diameter\", \"sizeref\": 1}, \"mode\": \"markers\", \"x\": [\"Technology\", \"Academic\", \"Financial\", \"Other\", \"Mix of fields\", \"Internet-based\", \"Government\", \"Manufacturing\", \"Telecommunications\", \"CRM/Marketing\", \"Retail\", \"Insurance\"], \"y\": [2253, 1643, 1145, 984, 954, 728, 561, 413, 407, 388, 322, 306], \"type\": \"scatter\", \"uid\": \"7653a954-b453-11e8-b15a-00210020bec7\"}], {\"title\": \"Industries of Python users\", \"yaxis\": {\"title\": \"# of Respondents\"}}, {\"showLink\": true, \"linkText\": \"Export to plot.ly\"})});</script>"
      ]
     },
     "metadata": {},
     "output_type": "display_data"
    }
   ],
   "source": [
    "import pandas as pd\n",
    "import seaborn as sns\n",
    "import matplotlib.pyplot as plt\n",
    "import numpy as np\n",
    "import warnings\n",
    "warnings.filterwarnings('ignore')\n",
    "\n",
    "#Plotly charts could be created offline. It  means that you do not need an API or anything else.\n",
    "import plotly.offline as py\n",
    "py.init_notebook_mode(connected=True)\n",
    "import plotly.graph_objs as go\n",
    "from plotly import tools\n",
    "\n",
    "mcr = pd.read_csv('/home/ahmed/Desktop/multipleChoiceResponses.csv',encoding='ISO-8859-1')\n",
    "mcr.head()\n",
    "Py_ind = mcr['EmployerIndustry'].value_counts()[:12]\n",
    "\n",
    "trace = go.Scatter(\n",
    "    x=Py_ind.index,\n",
    "    y=Py_ind.values,\n",
    "    mode='markers',\n",
    "    marker=dict(\n",
    "        sizemode = 'diameter',\n",
    "        sizeref = 1,\n",
    "        size = 50,\n",
    "        color = Py_ind.values,\n",
    "        colorscale='Portland',\n",
    "        showscale=True\n",
    "    ),\n",
    ")\n",
    "\n",
    "layout = go.Layout(\n",
    "    title='Industries of Python users', yaxis = dict(title = '# of Respondents')\n",
    ")\n",
    "\n",
    "data = [trace]\n",
    "fig = go.Figure(data=data, layout=layout)\n",
    "py.iplot(fig, filename=\"Job Titles of Py\")\n"
   ]
  }
 ],
 "metadata": {
  "kernelspec": {
   "display_name": "Python 3",
   "language": "python",
   "name": "python3"
  },
  "language_info": {
   "codemirror_mode": {
    "name": "ipython",
    "version": 3
   },
   "file_extension": ".py",
   "mimetype": "text/x-python",
   "name": "python",
   "nbconvert_exporter": "python",
   "pygments_lexer": "ipython3",
   "version": "3.6.5"
  }
 },
 "nbformat": 4,
 "nbformat_minor": 2
}
